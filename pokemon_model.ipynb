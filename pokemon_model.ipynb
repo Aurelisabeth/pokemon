{
 "cells": [
  {
   "cell_type": "markdown",
   "metadata": {},
   "source": [
    "# 🧠 Prédire si un Pokémon est un gagnant\n",
    "Ce notebook utilise un réseau de neurones simple en PyTorch pour prédire si un Pokémon est un gagnant, en utilisant des statistiques comme HP, Attack, Defense, etc.\n",
    "On utilise `BCEWithLogitsLoss` pour éviter l'effet 100 % sur toutes les prédictions."
   ]
  },
  {
   "cell_type": "code",
   "execution_count": 14,
   "metadata": {},
   "outputs": [],
   "source": [
    "import pandas as pd\n",
    "import torch\n",
    "from torch import nn\n",
    "from sklearn.model_selection import train_test_split\n",
    "from sklearn.preprocessing import StandardScaler\n",
    "from sklearn.metrics import accuracy_score, confusion_matrix\n",
    "import matplotlib.pyplot as plt\n",
    "import seaborn as sns"
   ]
  },
  {
   "cell_type": "code",
   "execution_count": 15,
   "metadata": {},
   "outputs": [],
   "source": [
    "# Chargement du dataset\n",
    "df = pd.read_csv(\"data/Pokemon.csv\")\n",
    "df = df.dropna()\n",
    "df = df.drop_duplicates()\n",
    "df[\"gagnant\"] = df[\"Legendary\"].astype(int)\n",
    "\n",
    "# Sélection des colonnes pertinentes\n",
    "features = [\"HP\", \"Attack\", \"Defense\", \"Sp. Atk\", \"Sp. Def\", \"Speed\", \"Generation\"]\n",
    "X = df[features].values\n",
    "y = df[\"gagnant\"].values\n",
    "\n",
    "# Normalisation\n",
    "scaler = StandardScaler()\n",
    "X = scaler.fit_transform(X)\n",
    "\n",
    "# Split train/test\n",
    "X_train, X_test, y_train, y_test = train_test_split(X, y, test_size=0.2, random_state=42)\n",
    "\n",
    "# Conversion en tenseurs\n",
    "X_train = torch.tensor(X_train, dtype=torch.float32)\n",
    "X_test = torch.tensor(X_test, dtype=torch.float32)\n",
    "y_train = torch.tensor(y_train, dtype=torch.float32).view(-1, 1)\n",
    "y_test = torch.tensor(y_test, dtype=torch.float32).view(-1, 1)"
   ]
  },
  {
   "cell_type": "code",
   "execution_count": 16,
   "metadata": {},
   "outputs": [],
   "source": [
    "# Définition du modèle\n",
    "class PokemonClassifier(nn.Module):\n",
    "    def __init__(self):\n",
    "        super().__init__()\n",
    "        self.model = nn.Sequential(\n",
    "            nn.Linear(7, 16),\n",
    "            nn.ReLU(),\n",
    "            nn.Linear(16, 8),\n",
    "            nn.ReLU(),\n",
    "            nn.Linear(8, 1)\n",
    "        )\n",
    "    def forward(self, x):\n",
    "        return self.model(x)\n",
    "\n",
    "model = PokemonClassifier()"
   ]
  },
  {
   "cell_type": "code",
   "execution_count": 17,
   "metadata": {},
   "outputs": [
    {
     "name": "stdout",
     "output_type": "stream",
     "text": [
      "Epoch 1 - Loss: 0.6756\n",
      "Epoch 2 - Loss: 0.6517\n",
      "Epoch 3 - Loss: 0.6263\n",
      "Epoch 4 - Loss: 0.5997\n",
      "Epoch 5 - Loss: 0.5723\n",
      "Epoch 6 - Loss: 0.5440\n",
      "Epoch 7 - Loss: 0.5158\n",
      "Epoch 8 - Loss: 0.4877\n",
      "Epoch 9 - Loss: 0.4605\n",
      "Epoch 10 - Loss: 0.4345\n",
      "Epoch 11 - Loss: 0.4100\n",
      "Epoch 12 - Loss: 0.3869\n",
      "Epoch 13 - Loss: 0.3652\n",
      "Epoch 14 - Loss: 0.3449\n",
      "Epoch 15 - Loss: 0.3255\n",
      "Epoch 16 - Loss: 0.3071\n",
      "Epoch 17 - Loss: 0.2897\n",
      "Epoch 18 - Loss: 0.2733\n",
      "Epoch 19 - Loss: 0.2577\n",
      "Epoch 20 - Loss: 0.2429\n"
     ]
    }
   ],
   "source": [
    "# Entraînement\n",
    "pos_weight = torch.tensor([2.5])  # Ajustable\n",
    "criterion = nn.BCEWithLogitsLoss(pos_weight=pos_weight)\n",
    "optimizer = torch.optim.Adam(model.parameters(), lr=0.01)\n",
    "\n",
    "losses = []\n",
    "for epoch in range(20):\n",
    "    optimizer.zero_grad()\n",
    "    outputs = model(X_train)\n",
    "    loss = criterion(outputs, y_train)\n",
    "    loss.backward()\n",
    "    optimizer.step()\n",
    "    losses.append(loss.item())\n",
    "    print(f\"Epoch {epoch+1} - Loss: {loss.item():.4f}\")"
   ]
  },
  {
   "cell_type": "code",
   "execution_count": 18,
   "metadata": {},
   "outputs": [
    {
     "name": "stdout",
     "output_type": "stream",
     "text": [
      "Accuracy: 0.9397590361445783\n",
      "Matrice de confusion:\n",
      " [[72  2]\n",
      " [ 3  6]]\n"
     ]
    },
    {
     "data": {
      "image/png": "[encoded data removed]",
      "text/plain": [
       "<Figure size 640x480 with 2 Axes>"
      ]
     },
     "metadata": {},
     "output_type": "display_data"
    }
   ],
   "source": [
    "# Évaluation\n",
    "with torch.no_grad():\n",
    "    predictions = torch.sigmoid(model(X_test))\n",
    "    predictions = (predictions > 0.5).int()\n",
    "    acc = accuracy_score(y_test, predictions)\n",
    "    cm = confusion_matrix(y_test, predictions)\n",
    "    print(\"Accuracy:\", acc)\n",
    "    print(\"Matrice de confusion:\\n\", cm)\n",
    "    sns.heatmap(cm, annot=True, fmt=\"d\")\n",
    "    plt.title(\"Matrice de confusion\")\n",
    "    plt.xlabel(\"Prédit\")\n",
    "    plt.ylabel(\"Réel\")\n",
    "    plt.show()"
   ]
  },
  {
   "cell_type": "code",
   "execution_count": 19,
   "metadata": {},
   "outputs": [
    {
     "data": {
      "text/plain": [
       "['model/scaler_pokemon.pkl']"
      ]
     },
     "execution_count": 19,
     "metadata": {},
     "output_type": "execute_result"
    }
   ],
   "source": [
    "from sklearn.preprocessing import StandardScaler\n",
    "import joblib\n",
    "\n",
    "# 1. Reprendre les features utilisées pour l'entraînement\n",
    "X = df[[\"HP\", \"Attack\", \"Defense\", \"Sp. Atk\", \"Sp. Def\", \"Speed\", \"Generation\"]]\n",
    "\n",
    "# 2. Créer et entraîner le scaler\n",
    "scaler = StandardScaler()\n",
    "scaler.fit(X)\n",
    "\n",
    "# 3. Sauvegarder le scaler\n",
    "joblib.dump(scaler, \"model/scaler_pokemon.pkl\")"
   ]
  },
  {
   "cell_type": "code",
   "execution_count": 20,
   "metadata": {},
   "outputs": [],
   "source": [
    "torch.save(model.state_dict(), \"model/pokemon_state_dict.pt\")"
   ]
  }
 ],
 "metadata": {
  "kernelspec": {
   "display_name": "Python 3",
   "language": "python",
   "name": "python3"
  },
  "language_info": {
   "codemirror_mode": {
    "name": "ipython",
    "version": 3
   },
   "file_extension": ".py",
   "mimetype": "text/x-python",
   "name": "python",
   "nbconvert_exporter": "python",
   "pygments_lexer": "ipython3",
   "version": "3.10.11"
  }
 },
 "nbformat": 4,
 "nbformat_minor": 2
}
